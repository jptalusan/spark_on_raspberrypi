{
 "cells": [
  {
   "cell_type": "markdown",
   "metadata": {},
   "source": [
    "From: http://spark.apache.org/docs/1.2.1/mllib-linear-methods.html"
   ]
  },
  {
   "cell_type": "code",
   "execution_count": 1,
   "metadata": {},
   "outputs": [],
   "source": [
    "import findspark\n",
    "findspark.init()\n",
    "# from pyspark.sql import SparkSession\n",
    "from pyspark import SparkConf, SparkContext\n",
    "from pyspark.mllib.classification import LogisticRegressionWithSGD\n",
    "from pyspark.mllib.regression import LabeledPoint\n",
    "from numpy import array"
   ]
  },
  {
   "cell_type": "code",
   "execution_count": 2,
   "metadata": {},
   "outputs": [],
   "source": [
    "# Load and parse the data\n",
    "def parsePoint(line):\n",
    "    values = [float(x) for x in line.split(' ')]\n",
    "    return LabeledPoint(values[0], values[1:])"
   ]
  },
  {
   "cell_type": "code",
   "execution_count": 3,
   "metadata": {},
   "outputs": [],
   "source": [
    "conf = (SparkConf()\n",
    "         .setMaster(\"local\")\n",
    "         .setAppName(\"sample local mlib\")\n",
    "         .set(\"spark.executor.memory\", \"512M\")\n",
    "         .set(\"spark.cores.max\", 4))\n",
    "# sc.stop()\n",
    "sc = SparkContext(conf = conf)"
   ]
  },
  {
   "cell_type": "markdown",
   "metadata": {},
   "source": [
    "textFile will still read this as RDD, but only store it locally"
   ]
  },
  {
   "cell_type": "code",
   "execution_count": 4,
   "metadata": {},
   "outputs": [],
   "source": [
    "data = sc.textFile(\"file:///home/hduser/sandbox/sample_svm_data.txt\")\n",
    "parsedData = data.map(parsePoint)"
   ]
  },
  {
   "cell_type": "code",
   "execution_count": 5,
   "metadata": {},
   "outputs": [
    {
     "name": "stderr",
     "output_type": "stream",
     "text": [
      "/opt/spark/python/pyspark/mllib/classification.py:313: UserWarning: Deprecated in 2.0.0. Use ml.classification.LogisticRegression or LogisticRegressionWithLBFGS.\n",
      "  \"Deprecated in 2.0.0. Use ml.classification.LogisticRegression or \"\n"
     ]
    }
   ],
   "source": [
    "# Build the model\n",
    "model = LogisticRegressionWithSGD.train(parsedData)"
   ]
  },
  {
   "cell_type": "markdown",
   "metadata": {},
   "source": [
    "Possible warning message in Logs:\n",
    "https://www.cloudera.com/documentation/enterprise/5-7-x/topics/spark_mllib.html\n",
    "<pre>\n",
    "[I 00:05:32.839 NotebookApp] Saving file at /Sample Local machine learning (spark).ipynb\n",
    "18/03/29 00:05:33 WARN util.NativeCodeLoader: Unable to load native-hadoop library for your platform... using builtin-java classes where applicable\n",
    "18/03/29 00:06:23 WARN util.SizeEstimator: Failed to check whether UseCompressedOops is set; assuming yes\n",
    "18/03/29 00:06:53 WARN netlib.BLAS: Failed to load implementation from: com.github.fommil.netlib.NativeSystemBLAS\n",
    "18/03/29 00:06:53 WARN netlib.BLAS: Failed to load implementation from: com.github.fommil.netlib.NativeRefBLAS\n",
    "</pre>"
   ]
  },
  {
   "cell_type": "code",
   "execution_count": 6,
   "metadata": {},
   "outputs": [
    {
     "name": "stdout",
     "output_type": "stream",
     "text": [
      "Score: 117/322\n",
      "Training error = 0.36335403726708076\n"
     ]
    }
   ],
   "source": [
    "from itertools import starmap\n",
    "\n",
    "# Evaluating the model on training data\n",
    "labelsAndPreds = parsedData.map(lambda p: (p.label, model.predict(p.features)))\n",
    "# labelsAndPreds.take(5)[0][1]\n",
    "count = 0\n",
    "\n",
    "\n",
    "tempList = labelsAndPreds.take(labelsAndPreds.count())\n",
    "for x in range(labelsAndPreds.count()):\n",
    "    if(tempList[x][0] != tempList[x][1]):\n",
    "        count = count + 1\n",
    "print(\"Score: {}/{}\".format(count, parsedData.count()))\n",
    "print(\"Training error = \" + str(count / float(parsedData.count())))\n",
    "# trainErr = labelsAndPreds.filter(lambda v, p: (v != p)).count() / float(parsedData.count())\n",
    "# print(\"Training Error = \" + str(trainErr))"
   ]
  },
  {
   "cell_type": "code",
   "execution_count": null,
   "metadata": {},
   "outputs": [],
   "source": []
  },
  {
   "cell_type": "code",
   "execution_count": null,
   "metadata": {},
   "outputs": [],
   "source": []
  }
 ],
 "metadata": {
  "kernelspec": {
   "display_name": "Pyspark Python 3",
   "language": "python3",
   "name": "pyspark-python3"
  },
  "language_info": {
   "codemirror_mode": {
    "name": "ipython",
    "version": 3
   },
   "file_extension": ".py",
   "mimetype": "text/x-python",
   "name": "python",
   "nbconvert_exporter": "python",
   "pygments_lexer": "ipython3",
   "version": "3.5.3"
  }
 },
 "nbformat": 4,
 "nbformat_minor": 2
}
